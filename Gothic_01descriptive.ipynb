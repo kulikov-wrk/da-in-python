{
 "cells": [
  {
   "cell_type": "markdown",
   "metadata": {},
   "source": [
    "<h1>Анализ результатов опроса по тизеру игры Готика</h1>\n",
    "<p>Ссылка на результат опубликована в Steam https://steamcommunity.com/app/950670/discussions/0/1742267854809566431. Источник данных https://drive.google.com/drive/folders/1QJYZJsKn3ttbA8g5Lr-15XOHZFHEqu5S</p>\n",
    "<p>Описательный анализ: знакомство с датасетом</p>"
   ]
  },
  {
   "cell_type": "markdown",
   "metadata": {},
   "source": [
    "<h2>Подготовка и знакомство с датасетом</h2>\n",
    "<p>Загрузка пакетов</p>"
   ]
  },
  {
   "cell_type": "code",
   "execution_count": 111,
   "metadata": {},
   "outputs": [],
   "source": [
    "import numpy as np\n",
    "import pandas as pd\n",
    "import matplotlib.pyplot as plt\n",
    "import seaborn as sns\n",
    "from collections import Counter as Counter"
   ]
  },
  {
   "cell_type": "markdown",
   "metadata": {},
   "source": [
    "Загрузка и просмотр размера таблицы"
   ]
  },
  {
   "cell_type": "code",
   "execution_count": 112,
   "metadata": {},
   "outputs": [
    {
     "data": {
      "text/plain": [
       "(43114, 23)"
      ]
     },
     "execution_count": 112,
     "metadata": {},
     "output_type": "execute_result"
    }
   ],
   "source": [
    "df = pd.read_csv(\"../../data/20200219-Gothic-PT_raw-data/Gothic (pt) Survey (Responses)_FINAL.csv\", sep = \";\", encoding='1251')\n",
    "# для доступа к файлу данных, разорхивированному в ту же папку использовать следующую строку\n",
    "# df = pd.read_csv(\"Gothic (pt) Survey (Responses)_FINAL.csv\", sep = \";\", encoding='1251')\n",
    "df.shape"
   ]
  },
  {
   "cell_type": "markdown",
   "metadata": {},
   "source": [
    "Правка настроек вывода таблицы и графиков."
   ]
  },
  {
   "cell_type": "code",
   "execution_count": 113,
   "metadata": {},
   "outputs": [],
   "source": [
    "pd.set_option('display.max_column', 23)\n",
    "pd.set_option('display.max_row', 23)\n",
    "#sns.set_style('whitegrid') если через seaborn\n",
    "plt.style.use('seaborn-v0_8-whitegrid')"
   ]
  },
  {
   "cell_type": "code",
   "execution_count": 114,
   "metadata": {},
   "outputs": [
    {
     "name": "stdout",
     "output_type": "stream",
     "text": [
      "<class 'pandas.core.frame.DataFrame'>\n",
      "RangeIndex: 43114 entries, 0 to 43113\n",
      "Data columns (total 23 columns):\n",
      " #   Column                                                                                                                                 Non-Null Count  Dtype  \n",
      "---  ------                                                                                                                                 --------------  -----  \n",
      " 0   Timestamp                                                                                                                              43114 non-null  object \n",
      " 1   What is your age?                                                                                                                      43113 non-null  object \n",
      " 2   What type of gamer do you consider yourself?                                                                                           43113 non-null  float64\n",
      " 3   What Gothic games have you played?                                                                                                     43113 non-null  object \n",
      " 4   Which of these other games/game series have you played?                                                                                43113 non-null  object \n",
      " 5   What are your favorite genres?                                                                                                         43113 non-null  object \n",
      " 6   On which platforms do you play games?                                                                                                  43113 non-null  object \n",
      " 7   How did you play Gothic Playable Teaser?                                                                                               43113 non-null  object \n",
      " 8   Have you finished Gothic Playable Teaser?                                                                                              43113 non-null  object \n",
      " 9   Please rate the visuals in the Gothic Playable Teaser                                                                                  43114 non-null  int64  \n",
      " 10  Please rate the animations in the Gothic Playable Teaser                                                                               43114 non-null  int64  \n",
      " 11  Please rate the sound in the Gothic Playable Teaser                                                                                    43114 non-null  int64  \n",
      " 12  Please rate the music in the Gothic Playable Teaser                                                                                    43114 non-null  int64  \n",
      " 13  Please rate the controls in the Gothic Playable Teaser                                                                                 43114 non-null  int64  \n",
      " 14  Please rate the combat system in the Gothic Playable Teaser                                                                            43114 non-null  int64  \n",
      " 15  How did you like the approach to re-interpret the plot?                                                                                43114 non-null  object \n",
      " 16  What do you like to see as next Gothic game?                                                                                           43113 non-null  object \n",
      " 17  Would you call yourself a diehard Gothic fan?                                                                                          43113 non-null  object \n",
      " 18  What was your favorite Gothic game?                                                                                                    43113 non-null  object \n",
      " 19  Please rate the English VO in the Gothic Playable Teaser                                                                               43114 non-null  int64  \n",
      " 20  What overall score would you give the Gothic Playable Teaser?                                                                          43114 non-null  object \n",
      " 21  Based on what you have played in Gothic Playable Teaser: Would you want us to continue the development and release it as a full game?  43114 non-null  object \n",
      " 22  Please rate the user interface in the Gothic Playable Teaser                                                                           43111 non-null  float64\n",
      "dtypes: float64(2), int64(7), object(14)\n",
      "memory usage: 7.6+ MB\n"
     ]
    }
   ],
   "source": [
    "df.info()"
   ]
  },
  {
   "cell_type": "markdown",
   "metadata": {},
   "source": [
    "Проверка вопросов по заголовкам столбцов и наличия пропущенных значений."
   ]
  },
  {
   "cell_type": "code",
   "execution_count": 115,
   "metadata": {},
   "outputs": [
    {
     "data": {
      "text/plain": [
       "Timestamp                                                                                                                                0\n",
       "What is your age?                                                                                                                        1\n",
       "What type of gamer do you consider yourself?                                                                                             1\n",
       "What Gothic games have you played?                                                                                                       1\n",
       "Which of these other games/game series have you played?                                                                                  1\n",
       "What are your favorite genres?                                                                                                           1\n",
       "On which platforms do you play games?                                                                                                    1\n",
       "How did you play Gothic Playable Teaser?                                                                                                 1\n",
       "Have you finished Gothic Playable Teaser?                                                                                                1\n",
       "Please rate the visuals in the Gothic Playable Teaser                                                                                    0\n",
       "Please rate the animations in the Gothic Playable Teaser                                                                                 0\n",
       "Please rate the sound in the Gothic Playable Teaser                                                                                      0\n",
       "Please rate the music in the Gothic Playable Teaser                                                                                      0\n",
       "Please rate the controls in the Gothic Playable Teaser                                                                                   0\n",
       "Please rate the combat system in the Gothic Playable Teaser                                                                              0\n",
       "How did you like the approach to re-interpret the plot?                                                                                  0\n",
       "What do you like to see as next Gothic game?                                                                                             1\n",
       "Would you call yourself a diehard Gothic fan?                                                                                            1\n",
       "What was your favorite Gothic game?                                                                                                      1\n",
       "Please rate the English VO in the Gothic Playable Teaser                                                                                 0\n",
       "What overall score would you give the Gothic Playable Teaser?                                                                            0\n",
       "Based on what you have played in Gothic Playable Teaser: Would you want us to continue the development and release it as a full game?    0\n",
       "Please rate the user interface in the Gothic Playable Teaser                                                                             3\n",
       "dtype: int64"
      ]
     },
     "execution_count": 115,
     "metadata": {},
     "output_type": "execute_result"
    }
   ],
   "source": [
    "df.isna().sum()"
   ]
  },
  {
   "cell_type": "markdown",
   "metadata": {},
   "source": [
    "<p>Пропущенные значения есть, но их мало. Можно сразу дропнуть, но в примере буду избавляться от них в каждом конкретном случае.</p>"
   ]
  },
  {
   "cell_type": "markdown",
   "metadata": {},
   "source": [
    "Предпросмотр таблицы\n"
   ]
  },
  {
   "cell_type": "code",
   "execution_count": 116,
   "metadata": {},
   "outputs": [
    {
     "data": {
      "text/html": [
       "<div>\n",
       "<style scoped>\n",
       "    .dataframe tbody tr th:only-of-type {\n",
       "        vertical-align: middle;\n",
       "    }\n",
       "\n",
       "    .dataframe tbody tr th {\n",
       "        vertical-align: top;\n",
       "    }\n",
       "\n",
       "    .dataframe thead th {\n",
       "        text-align: right;\n",
       "    }\n",
       "</style>\n",
       "<table border=\"1\" class=\"dataframe\">\n",
       "  <thead>\n",
       "    <tr style=\"text-align: right;\">\n",
       "      <th></th>\n",
       "      <th>Timestamp</th>\n",
       "      <th>What is your age?</th>\n",
       "      <th>What type of gamer do you consider yourself?</th>\n",
       "      <th>What Gothic games have you played?</th>\n",
       "      <th>Which of these other games/game series have you played?</th>\n",
       "      <th>What are your favorite genres?</th>\n",
       "      <th>On which platforms do you play games?</th>\n",
       "      <th>How did you play Gothic Playable Teaser?</th>\n",
       "      <th>Have you finished Gothic Playable Teaser?</th>\n",
       "      <th>Please rate the visuals in the Gothic Playable Teaser</th>\n",
       "      <th>Please rate the animations in the Gothic Playable Teaser</th>\n",
       "      <th>Please rate the sound in the Gothic Playable Teaser</th>\n",
       "      <th>Please rate the music in the Gothic Playable Teaser</th>\n",
       "      <th>Please rate the controls in the Gothic Playable Teaser</th>\n",
       "      <th>Please rate the combat system in the Gothic Playable Teaser</th>\n",
       "      <th>How did you like the approach to re-interpret the plot?</th>\n",
       "      <th>What do you like to see as next Gothic game?</th>\n",
       "      <th>Would you call yourself a diehard Gothic fan?</th>\n",
       "      <th>What was your favorite Gothic game?</th>\n",
       "      <th>Please rate the English VO in the Gothic Playable Teaser</th>\n",
       "      <th>What overall score would you give the Gothic Playable Teaser?</th>\n",
       "      <th>Based on what you have played in Gothic Playable Teaser: Would you want us to continue the development and release it as a full game?</th>\n",
       "      <th>Please rate the user interface in the Gothic Playable Teaser</th>\n",
       "    </tr>\n",
       "  </thead>\n",
       "  <tbody>\n",
       "    <tr>\n",
       "      <th>0</th>\n",
       "      <td>11 28 2019 13:55:38</td>\n",
       "      <td>36-42</td>\n",
       "      <td>5.0</td>\n",
       "      <td>Gothic, Gothic 2 (including Night of the Raven...</td>\n",
       "      <td>Elder Scrolls, The Witcher, Risen, ArcaniA, Fa...</td>\n",
       "      <td>RPG, Turn basted strategy, RTS</td>\n",
       "      <td>PC</td>\n",
       "      <td>Keyboard/Mouse</td>\n",
       "      <td>Yes</td>\n",
       "      <td>10</td>\n",
       "      <td>8</td>\n",
       "      <td>3</td>\n",
       "      <td>4</td>\n",
       "      <td>3</td>\n",
       "      <td>4</td>\n",
       "      <td>It was spot on!</td>\n",
       "      <td>Gothic Sequel</td>\n",
       "      <td>No</td>\n",
       "      <td>Gothic, Gothic 2 (with or without Night of the...</td>\n",
       "      <td>4</td>\n",
       "      <td>85</td>\n",
       "      <td>Yes</td>\n",
       "      <td>NaN</td>\n",
       "    </tr>\n",
       "    <tr>\n",
       "      <th>1</th>\n",
       "      <td>11 28 2019 14:06:46</td>\n",
       "      <td>36-42</td>\n",
       "      <td>4.0</td>\n",
       "      <td>Gothic, Gothic 2 (including Night of the Raven...</td>\n",
       "      <td>Elder Scrolls, The Witcher, Mount &amp; Blade, Kin...</td>\n",
       "      <td>RPG, MMO, Action/Shooters, Strategy</td>\n",
       "      <td>PC, Consoles</td>\n",
       "      <td>Keyboard/Mouse</td>\n",
       "      <td>Yes</td>\n",
       "      <td>8</td>\n",
       "      <td>9</td>\n",
       "      <td>4</td>\n",
       "      <td>5</td>\n",
       "      <td>3</td>\n",
       "      <td>2</td>\n",
       "      <td>Didnt like it at all</td>\n",
       "      <td>Gothic Sequel</td>\n",
       "      <td>No</td>\n",
       "      <td>Gothic 3</td>\n",
       "      <td>4</td>\n",
       "      <td>80</td>\n",
       "      <td>Yes</td>\n",
       "      <td>NaN</td>\n",
       "    </tr>\n",
       "    <tr>\n",
       "      <th>2</th>\n",
       "      <td>12 2 2019 18:18:52</td>\n",
       "      <td>36-42</td>\n",
       "      <td>4.0</td>\n",
       "      <td>Gothic, Gothic 2 (including Night of the Raven...</td>\n",
       "      <td>Elder Scrolls, The Witcher, Kingdom Come, Rise...</td>\n",
       "      <td>RPG, Action Adventure</td>\n",
       "      <td>PC, Consoles</td>\n",
       "      <td>Gamepad</td>\n",
       "      <td>Yes</td>\n",
       "      <td>9</td>\n",
       "      <td>9</td>\n",
       "      <td>4</td>\n",
       "      <td>4</td>\n",
       "      <td>4</td>\n",
       "      <td>4</td>\n",
       "      <td>It was spot on!</td>\n",
       "      <td>Gothic Remake(s)</td>\n",
       "      <td>No</td>\n",
       "      <td>Gothic</td>\n",
       "      <td>4</td>\n",
       "      <td>80</td>\n",
       "      <td>Yes</td>\n",
       "      <td>NaN</td>\n",
       "    </tr>\n",
       "    <tr>\n",
       "      <th>3</th>\n",
       "      <td>12 10 2019 18:36:41</td>\n",
       "      <td>28-35</td>\n",
       "      <td>5.0</td>\n",
       "      <td>Gothic, Gothic 2 (including Night of the Raven...</td>\n",
       "      <td>Elder Scrolls, The Witcher, Kingdom Come, ELEX...</td>\n",
       "      <td>RPG</td>\n",
       "      <td>PC, Consoles</td>\n",
       "      <td>Keyboard/Mouse</td>\n",
       "      <td>Yes</td>\n",
       "      <td>5</td>\n",
       "      <td>4</td>\n",
       "      <td>5</td>\n",
       "      <td>5</td>\n",
       "      <td>4</td>\n",
       "      <td>5</td>\n",
       "      <td>It was spot on!</td>\n",
       "      <td>Gothic Remake(s)</td>\n",
       "      <td>Yes</td>\n",
       "      <td>Gothic 2 (with or without Night of the Raven)</td>\n",
       "      <td>3</td>\n",
       "      <td>80</td>\n",
       "      <td>Yes</td>\n",
       "      <td>5.0</td>\n",
       "    </tr>\n",
       "    <tr>\n",
       "      <th>4</th>\n",
       "      <td>12 11 2019 14:41:55</td>\n",
       "      <td>36-42</td>\n",
       "      <td>3.0</td>\n",
       "      <td>Gothic, Gothic 2 (including Night of the Raven...</td>\n",
       "      <td>The Witcher, Kingdom Come, ELEX, Risen, Fallout</td>\n",
       "      <td>RPG, Action Adventure, Adventure Games</td>\n",
       "      <td>PC, Phones</td>\n",
       "      <td>Keyboard/Mouse</td>\n",
       "      <td>Yes</td>\n",
       "      <td>4</td>\n",
       "      <td>5</td>\n",
       "      <td>5</td>\n",
       "      <td>5</td>\n",
       "      <td>3</td>\n",
       "      <td>2</td>\n",
       "      <td>It was spot on!</td>\n",
       "      <td>Gothic Episodic Spin-Offs</td>\n",
       "      <td>Yes</td>\n",
       "      <td>Gothic 2 (with or without Night of the Raven)</td>\n",
       "      <td>3</td>\n",
       "      <td>85</td>\n",
       "      <td>Yes</td>\n",
       "      <td>4.0</td>\n",
       "    </tr>\n",
       "  </tbody>\n",
       "</table>\n",
       "</div>"
      ],
      "text/plain": [
       "             Timestamp What is your age?  \\\n",
       "0  11 28 2019 13:55:38             36-42   \n",
       "1  11 28 2019 14:06:46             36-42   \n",
       "2   12 2 2019 18:18:52             36-42   \n",
       "3  12 10 2019 18:36:41             28-35   \n",
       "4  12 11 2019 14:41:55             36-42   \n",
       "\n",
       "   What type of gamer do you consider yourself?  \\\n",
       "0                                           5.0   \n",
       "1                                           4.0   \n",
       "2                                           4.0   \n",
       "3                                           5.0   \n",
       "4                                           3.0   \n",
       "\n",
       "                  What Gothic games have you played?  \\\n",
       "0  Gothic, Gothic 2 (including Night of the Raven...   \n",
       "1  Gothic, Gothic 2 (including Night of the Raven...   \n",
       "2  Gothic, Gothic 2 (including Night of the Raven...   \n",
       "3  Gothic, Gothic 2 (including Night of the Raven...   \n",
       "4  Gothic, Gothic 2 (including Night of the Raven...   \n",
       "\n",
       "  Which of these other games/game series have you played?  \\\n",
       "0  Elder Scrolls, The Witcher, Risen, ArcaniA, Fa...        \n",
       "1  Elder Scrolls, The Witcher, Mount & Blade, Kin...        \n",
       "2  Elder Scrolls, The Witcher, Kingdom Come, Rise...        \n",
       "3  Elder Scrolls, The Witcher, Kingdom Come, ELEX...        \n",
       "4    The Witcher, Kingdom Come, ELEX, Risen, Fallout        \n",
       "\n",
       "           What are your favorite genres?  \\\n",
       "0          RPG, Turn basted strategy, RTS   \n",
       "1     RPG, MMO, Action/Shooters, Strategy   \n",
       "2                   RPG, Action Adventure   \n",
       "3                                     RPG   \n",
       "4  RPG, Action Adventure, Adventure Games   \n",
       "\n",
       "  On which platforms do you play games?  \\\n",
       "0                                    PC   \n",
       "1                          PC, Consoles   \n",
       "2                          PC, Consoles   \n",
       "3                          PC, Consoles   \n",
       "4                            PC, Phones   \n",
       "\n",
       "  How did you play Gothic Playable Teaser?  \\\n",
       "0                           Keyboard/Mouse   \n",
       "1                           Keyboard/Mouse   \n",
       "2                                  Gamepad   \n",
       "3                           Keyboard/Mouse   \n",
       "4                           Keyboard/Mouse   \n",
       "\n",
       "  Have you finished Gothic Playable Teaser?  \\\n",
       "0                                       Yes   \n",
       "1                                       Yes   \n",
       "2                                       Yes   \n",
       "3                                       Yes   \n",
       "4                                       Yes   \n",
       "\n",
       "   Please rate the visuals in the Gothic Playable Teaser  \\\n",
       "0                                                 10       \n",
       "1                                                  8       \n",
       "2                                                  9       \n",
       "3                                                  5       \n",
       "4                                                  4       \n",
       "\n",
       "   Please rate the animations in the Gothic Playable Teaser  \\\n",
       "0                                                  8          \n",
       "1                                                  9          \n",
       "2                                                  9          \n",
       "3                                                  4          \n",
       "4                                                  5          \n",
       "\n",
       "   Please rate the sound in the Gothic Playable Teaser  \\\n",
       "0                                                  3     \n",
       "1                                                  4     \n",
       "2                                                  4     \n",
       "3                                                  5     \n",
       "4                                                  5     \n",
       "\n",
       "   Please rate the music in the Gothic Playable Teaser  \\\n",
       "0                                                  4     \n",
       "1                                                  5     \n",
       "2                                                  4     \n",
       "3                                                  5     \n",
       "4                                                  5     \n",
       "\n",
       "   Please rate the controls in the Gothic Playable Teaser  \\\n",
       "0                                                  3        \n",
       "1                                                  3        \n",
       "2                                                  4        \n",
       "3                                                  4        \n",
       "4                                                  3        \n",
       "\n",
       "   Please rate the combat system in the Gothic Playable Teaser  \\\n",
       "0                                                  4             \n",
       "1                                                  2             \n",
       "2                                                  4             \n",
       "3                                                  5             \n",
       "4                                                  2             \n",
       "\n",
       "  How did you like the approach to re-interpret the plot?  \\\n",
       "0                                    It was spot on!        \n",
       "1                               Didnt like it at all        \n",
       "2                                    It was spot on!        \n",
       "3                                    It was spot on!        \n",
       "4                                    It was spot on!        \n",
       "\n",
       "  What do you like to see as next Gothic game?  \\\n",
       "0                                Gothic Sequel   \n",
       "1                                Gothic Sequel   \n",
       "2                             Gothic Remake(s)   \n",
       "3                             Gothic Remake(s)   \n",
       "4                    Gothic Episodic Spin-Offs   \n",
       "\n",
       "  Would you call yourself a diehard Gothic fan?  \\\n",
       "0                                            No   \n",
       "1                                            No   \n",
       "2                                            No   \n",
       "3                                           Yes   \n",
       "4                                           Yes   \n",
       "\n",
       "                 What was your favorite Gothic game?  \\\n",
       "0  Gothic, Gothic 2 (with or without Night of the...   \n",
       "1                                           Gothic 3   \n",
       "2                                             Gothic   \n",
       "3      Gothic 2 (with or without Night of the Raven)   \n",
       "4      Gothic 2 (with or without Night of the Raven)   \n",
       "\n",
       "   Please rate the English VO in the Gothic Playable Teaser  \\\n",
       "0                                                  4          \n",
       "1                                                  4          \n",
       "2                                                  4          \n",
       "3                                                  3          \n",
       "4                                                  3          \n",
       "\n",
       "  What overall score would you give the Gothic Playable Teaser?  \\\n",
       "0                                                 85              \n",
       "1                                                 80              \n",
       "2                                                 80              \n",
       "3                                                 80              \n",
       "4                                                 85              \n",
       "\n",
       "  Based on what you have played in Gothic Playable Teaser: Would you want us to continue the development and release it as a full game?  \\\n",
       "0                                                Yes                                                                                      \n",
       "1                                                Yes                                                                                      \n",
       "2                                                Yes                                                                                      \n",
       "3                                                Yes                                                                                      \n",
       "4                                                Yes                                                                                      \n",
       "\n",
       "   Please rate the user interface in the Gothic Playable Teaser  \n",
       "0                                                NaN             \n",
       "1                                                NaN             \n",
       "2                                                NaN             \n",
       "3                                                5.0             \n",
       "4                                                4.0             "
      ]
     },
     "execution_count": 116,
     "metadata": {},
     "output_type": "execute_result"
    }
   ],
   "source": [
    "df.head()"
   ]
  },
  {
   "cell_type": "markdown",
   "metadata": {},
   "source": [
    "Для сравнения и нижнюю часть"
   ]
  },
  {
   "cell_type": "code",
   "execution_count": 117,
   "metadata": {},
   "outputs": [
    {
     "data": {
      "text/html": [
       "<div>\n",
       "<style scoped>\n",
       "    .dataframe tbody tr th:only-of-type {\n",
       "        vertical-align: middle;\n",
       "    }\n",
       "\n",
       "    .dataframe tbody tr th {\n",
       "        vertical-align: top;\n",
       "    }\n",
       "\n",
       "    .dataframe thead th {\n",
       "        text-align: right;\n",
       "    }\n",
       "</style>\n",
       "<table border=\"1\" class=\"dataframe\">\n",
       "  <thead>\n",
       "    <tr style=\"text-align: right;\">\n",
       "      <th></th>\n",
       "      <th>Timestamp</th>\n",
       "      <th>What is your age?</th>\n",
       "      <th>What type of gamer do you consider yourself?</th>\n",
       "      <th>What Gothic games have you played?</th>\n",
       "      <th>Which of these other games/game series have you played?</th>\n",
       "      <th>What are your favorite genres?</th>\n",
       "      <th>On which platforms do you play games?</th>\n",
       "      <th>How did you play Gothic Playable Teaser?</th>\n",
       "      <th>Have you finished Gothic Playable Teaser?</th>\n",
       "      <th>Please rate the visuals in the Gothic Playable Teaser</th>\n",
       "      <th>Please rate the animations in the Gothic Playable Teaser</th>\n",
       "      <th>Please rate the sound in the Gothic Playable Teaser</th>\n",
       "      <th>Please rate the music in the Gothic Playable Teaser</th>\n",
       "      <th>Please rate the controls in the Gothic Playable Teaser</th>\n",
       "      <th>Please rate the combat system in the Gothic Playable Teaser</th>\n",
       "      <th>How did you like the approach to re-interpret the plot?</th>\n",
       "      <th>What do you like to see as next Gothic game?</th>\n",
       "      <th>Would you call yourself a diehard Gothic fan?</th>\n",
       "      <th>What was your favorite Gothic game?</th>\n",
       "      <th>Please rate the English VO in the Gothic Playable Teaser</th>\n",
       "      <th>What overall score would you give the Gothic Playable Teaser?</th>\n",
       "      <th>Based on what you have played in Gothic Playable Teaser: Would you want us to continue the development and release it as a full game?</th>\n",
       "      <th>Please rate the user interface in the Gothic Playable Teaser</th>\n",
       "    </tr>\n",
       "  </thead>\n",
       "  <tbody>\n",
       "    <tr>\n",
       "      <th>43109</th>\n",
       "      <td>2 16 2020 22:26:59</td>\n",
       "      <td>17-21</td>\n",
       "      <td>4.0</td>\n",
       "      <td>Gothic, Gothic 2 (including Night of the Raven...</td>\n",
       "      <td>Elder Scrolls, The Witcher, Risen, ArcaniA, Ba...</td>\n",
       "      <td>RPG, Grand Strategy</td>\n",
       "      <td>PC</td>\n",
       "      <td>Gamepad</td>\n",
       "      <td>Yes</td>\n",
       "      <td>2</td>\n",
       "      <td>3</td>\n",
       "      <td>4</td>\n",
       "      <td>3</td>\n",
       "      <td>4</td>\n",
       "      <td>4</td>\n",
       "      <td>Was ok but could be better</td>\n",
       "      <td>Gothic Prequel</td>\n",
       "      <td>Yes</td>\n",
       "      <td>Gothic 2 (with or without Night of the Raven)</td>\n",
       "      <td>3</td>\n",
       "      <td>75</td>\n",
       "      <td>Yes</td>\n",
       "      <td>4.0</td>\n",
       "    </tr>\n",
       "    <tr>\n",
       "      <th>43110</th>\n",
       "      <td>2 16 2020 22:29:58</td>\n",
       "      <td>28-35</td>\n",
       "      <td>3.0</td>\n",
       "      <td>Gothic, Gothic 2 (including Night of the Raven...</td>\n",
       "      <td>Elder Scrolls, The Witcher, Mount &amp; Blade, Kin...</td>\n",
       "      <td>RPG, MMO</td>\n",
       "      <td>PC</td>\n",
       "      <td>Keyboard/Mouse</td>\n",
       "      <td>Yes</td>\n",
       "      <td>5</td>\n",
       "      <td>4</td>\n",
       "      <td>5</td>\n",
       "      <td>5</td>\n",
       "      <td>4</td>\n",
       "      <td>5</td>\n",
       "      <td>It was spot on!</td>\n",
       "      <td>Gothic Remake(s)</td>\n",
       "      <td>Yes</td>\n",
       "      <td>Gothic 2 (with or without Night of the Raven)</td>\n",
       "      <td>3</td>\n",
       "      <td>90</td>\n",
       "      <td>Yes</td>\n",
       "      <td>4.0</td>\n",
       "    </tr>\n",
       "    <tr>\n",
       "      <th>43111</th>\n",
       "      <td>2 16 2020 22:48:40</td>\n",
       "      <td>36-42</td>\n",
       "      <td>5.0</td>\n",
       "      <td>Gothic, Gothic 2 (including Night of the Raven...</td>\n",
       "      <td>Elder Scrolls, The Witcher, Risen, Fallout</td>\n",
       "      <td>RPG, Action Adventure</td>\n",
       "      <td>PC</td>\n",
       "      <td>Gamepad</td>\n",
       "      <td>Yes</td>\n",
       "      <td>3</td>\n",
       "      <td>4</td>\n",
       "      <td>5</td>\n",
       "      <td>5</td>\n",
       "      <td>3</td>\n",
       "      <td>5</td>\n",
       "      <td>It was spot on!</td>\n",
       "      <td>Gothic Remake(s)</td>\n",
       "      <td>Yes</td>\n",
       "      <td>Gothic 2 (with or without Night of the Raven)</td>\n",
       "      <td>1</td>\n",
       "      <td>85</td>\n",
       "      <td>Yes</td>\n",
       "      <td>4.0</td>\n",
       "    </tr>\n",
       "    <tr>\n",
       "      <th>43112</th>\n",
       "      <td>2 16 2020 22:49:31</td>\n",
       "      <td>28-35</td>\n",
       "      <td>3.0</td>\n",
       "      <td>Gothic</td>\n",
       "      <td>The Witcher</td>\n",
       "      <td>Action Adventure</td>\n",
       "      <td>Consoles</td>\n",
       "      <td>Gamepad</td>\n",
       "      <td>Yes</td>\n",
       "      <td>4</td>\n",
       "      <td>3</td>\n",
       "      <td>4</td>\n",
       "      <td>4</td>\n",
       "      <td>4</td>\n",
       "      <td>3</td>\n",
       "      <td>Was ok but could be better</td>\n",
       "      <td>Gothic Remake(s)</td>\n",
       "      <td>No</td>\n",
       "      <td>Gothic</td>\n",
       "      <td>4</td>\n",
       "      <td>80</td>\n",
       "      <td>Yes</td>\n",
       "      <td>4.0</td>\n",
       "    </tr>\n",
       "    <tr>\n",
       "      <th>43113</th>\n",
       "      <td>2 16 2020 22:54:04</td>\n",
       "      <td>17-21</td>\n",
       "      <td>4.0</td>\n",
       "      <td>Gothic, Gothic 2 (including Night of the Raven...</td>\n",
       "      <td>Elder Scrolls, The Witcher, Kingdom Come, ELEX...</td>\n",
       "      <td>RPG</td>\n",
       "      <td>PC</td>\n",
       "      <td>Keyboard/Mouse</td>\n",
       "      <td>No</td>\n",
       "      <td>3</td>\n",
       "      <td>4</td>\n",
       "      <td>4</td>\n",
       "      <td>4</td>\n",
       "      <td>4</td>\n",
       "      <td>4</td>\n",
       "      <td>It was spot on!</td>\n",
       "      <td>Gothic Sequel</td>\n",
       "      <td>Yes</td>\n",
       "      <td>Gothic, Gothic 2 (with or without Night of the...</td>\n",
       "      <td>4</td>\n",
       "      <td>75</td>\n",
       "      <td>Yes</td>\n",
       "      <td>5.0</td>\n",
       "    </tr>\n",
       "  </tbody>\n",
       "</table>\n",
       "</div>"
      ],
      "text/plain": [
       "                Timestamp What is your age?  \\\n",
       "43109  2 16 2020 22:26:59             17-21   \n",
       "43110  2 16 2020 22:29:58             28-35   \n",
       "43111  2 16 2020 22:48:40             36-42   \n",
       "43112  2 16 2020 22:49:31             28-35   \n",
       "43113  2 16 2020 22:54:04             17-21   \n",
       "\n",
       "       What type of gamer do you consider yourself?  \\\n",
       "43109                                           4.0   \n",
       "43110                                           3.0   \n",
       "43111                                           5.0   \n",
       "43112                                           3.0   \n",
       "43113                                           4.0   \n",
       "\n",
       "                      What Gothic games have you played?  \\\n",
       "43109  Gothic, Gothic 2 (including Night of the Raven...   \n",
       "43110  Gothic, Gothic 2 (including Night of the Raven...   \n",
       "43111  Gothic, Gothic 2 (including Night of the Raven...   \n",
       "43112                                             Gothic   \n",
       "43113  Gothic, Gothic 2 (including Night of the Raven...   \n",
       "\n",
       "      Which of these other games/game series have you played?  \\\n",
       "43109  Elder Scrolls, The Witcher, Risen, ArcaniA, Ba...        \n",
       "43110  Elder Scrolls, The Witcher, Mount & Blade, Kin...        \n",
       "43111         Elder Scrolls, The Witcher, Risen, Fallout        \n",
       "43112                                        The Witcher        \n",
       "43113  Elder Scrolls, The Witcher, Kingdom Come, ELEX...        \n",
       "\n",
       "      What are your favorite genres? On which platforms do you play games?  \\\n",
       "43109            RPG, Grand Strategy                                    PC   \n",
       "43110                       RPG, MMO                                    PC   \n",
       "43111          RPG, Action Adventure                                    PC   \n",
       "43112               Action Adventure                              Consoles   \n",
       "43113                            RPG                                    PC   \n",
       "\n",
       "      How did you play Gothic Playable Teaser?  \\\n",
       "43109                                  Gamepad   \n",
       "43110                           Keyboard/Mouse   \n",
       "43111                                  Gamepad   \n",
       "43112                                  Gamepad   \n",
       "43113                           Keyboard/Mouse   \n",
       "\n",
       "      Have you finished Gothic Playable Teaser?  \\\n",
       "43109                                       Yes   \n",
       "43110                                       Yes   \n",
       "43111                                       Yes   \n",
       "43112                                       Yes   \n",
       "43113                                        No   \n",
       "\n",
       "       Please rate the visuals in the Gothic Playable Teaser  \\\n",
       "43109                                                  2       \n",
       "43110                                                  5       \n",
       "43111                                                  3       \n",
       "43112                                                  4       \n",
       "43113                                                  3       \n",
       "\n",
       "       Please rate the animations in the Gothic Playable Teaser  \\\n",
       "43109                                                  3          \n",
       "43110                                                  4          \n",
       "43111                                                  4          \n",
       "43112                                                  3          \n",
       "43113                                                  4          \n",
       "\n",
       "       Please rate the sound in the Gothic Playable Teaser  \\\n",
       "43109                                                  4     \n",
       "43110                                                  5     \n",
       "43111                                                  5     \n",
       "43112                                                  4     \n",
       "43113                                                  4     \n",
       "\n",
       "       Please rate the music in the Gothic Playable Teaser  \\\n",
       "43109                                                  3     \n",
       "43110                                                  5     \n",
       "43111                                                  5     \n",
       "43112                                                  4     \n",
       "43113                                                  4     \n",
       "\n",
       "       Please rate the controls in the Gothic Playable Teaser  \\\n",
       "43109                                                  4        \n",
       "43110                                                  4        \n",
       "43111                                                  3        \n",
       "43112                                                  4        \n",
       "43113                                                  4        \n",
       "\n",
       "       Please rate the combat system in the Gothic Playable Teaser  \\\n",
       "43109                                                  4             \n",
       "43110                                                  5             \n",
       "43111                                                  5             \n",
       "43112                                                  3             \n",
       "43113                                                  4             \n",
       "\n",
       "      How did you like the approach to re-interpret the plot?  \\\n",
       "43109                         Was ok but could be better        \n",
       "43110                                    It was spot on!        \n",
       "43111                                    It was spot on!        \n",
       "43112                         Was ok but could be better        \n",
       "43113                                    It was spot on!        \n",
       "\n",
       "      What do you like to see as next Gothic game?  \\\n",
       "43109                               Gothic Prequel   \n",
       "43110                             Gothic Remake(s)   \n",
       "43111                             Gothic Remake(s)   \n",
       "43112                             Gothic Remake(s)   \n",
       "43113                                Gothic Sequel   \n",
       "\n",
       "      Would you call yourself a diehard Gothic fan?  \\\n",
       "43109                                           Yes   \n",
       "43110                                           Yes   \n",
       "43111                                           Yes   \n",
       "43112                                            No   \n",
       "43113                                           Yes   \n",
       "\n",
       "                     What was your favorite Gothic game?  \\\n",
       "43109      Gothic 2 (with or without Night of the Raven)   \n",
       "43110      Gothic 2 (with or without Night of the Raven)   \n",
       "43111      Gothic 2 (with or without Night of the Raven)   \n",
       "43112                                             Gothic   \n",
       "43113  Gothic, Gothic 2 (with or without Night of the...   \n",
       "\n",
       "       Please rate the English VO in the Gothic Playable Teaser  \\\n",
       "43109                                                  3          \n",
       "43110                                                  3          \n",
       "43111                                                  1          \n",
       "43112                                                  4          \n",
       "43113                                                  4          \n",
       "\n",
       "      What overall score would you give the Gothic Playable Teaser?  \\\n",
       "43109                                                 75              \n",
       "43110                                                 90              \n",
       "43111                                                 85              \n",
       "43112                                                 80              \n",
       "43113                                                 75              \n",
       "\n",
       "      Based on what you have played in Gothic Playable Teaser: Would you want us to continue the development and release it as a full game?  \\\n",
       "43109                                                Yes                                                                                      \n",
       "43110                                                Yes                                                                                      \n",
       "43111                                                Yes                                                                                      \n",
       "43112                                                Yes                                                                                      \n",
       "43113                                                Yes                                                                                      \n",
       "\n",
       "       Please rate the user interface in the Gothic Playable Teaser  \n",
       "43109                                                4.0             \n",
       "43110                                                4.0             \n",
       "43111                                                4.0             \n",
       "43112                                                4.0             \n",
       "43113                                                5.0             "
      ]
     },
     "execution_count": 117,
     "metadata": {},
     "output_type": "execute_result"
    }
   ],
   "source": [
    "df.tail()"
   ]
  },
  {
   "cell_type": "markdown",
   "metadata": {},
   "source": [
    "На первый взгляд расхождений нет, но Timestamp импортирован как текст, конвертирую в дату."
   ]
  },
  {
   "cell_type": "code",
   "execution_count": 118,
   "metadata": {},
   "outputs": [],
   "source": [
    "df['Timestamp'] = pd.to_datetime(df['Timestamp'], format='%m %d %Y %H:%M:%S')"
   ]
  },
  {
   "cell_type": "markdown",
   "metadata": {},
   "source": [
    "<h1>Начало анализа</h1>\n",
    "<p>Как собирались ответы, что за выборка по возрасту, играм, жанрам и платформам.</p>\n",
    "<p>Пояснений по вариантам ответов \"К какому типу игроков вы себя относите?\" нет ни в файле с данными, ни в прилагаемой презентации, поэтому игнорирую вопрос и перехожу к остальным вопросам.</p>"
   ]
  },
  {
   "cell_type": "code",
   "execution_count": 119,
   "metadata": {},
   "outputs": [
    {
     "name": "stdout",
     "output_type": "stream",
     "text": [
      "Первый ответ получен 2019-11-28 13:55:38, последний - 2020-02-16 22:54:04, на все ответы ушло примерно 80 дней\n"
     ]
    }
   ],
   "source": [
    "print(f\"Первый ответ получен {df.Timestamp.min()}, последний - {df.Timestamp.max()}, на все ответы ушло примерно {(df.Timestamp.max() - df.Timestamp.min()).days} дней\")"
   ]
  },
  {
   "cell_type": "markdown",
   "metadata": {},
   "source": [
    "Динамика получения ответов"
   ]
  },
  {
   "cell_type": "code",
   "execution_count": 120,
   "metadata": {},
   "outputs": [],
   "source": [
    "survey_dates = [x.date() for x in df['Timestamp']]\n",
    "survey_dates = [str(x) for x in survey_dates] #преобразование под счетчик, но нужное ли?\n",
    "dates_counter = Counter(survey_dates)"
   ]
  },
  {
   "cell_type": "code",
   "execution_count": 121,
   "metadata": {},
   "outputs": [
    {
     "name": "stderr",
     "output_type": "stream",
     "text": [
      "C:\\Users\\Kulikov\\AppData\\Local\\Temp\\ipykernel_17800\\3944839594.py:4: UserWarning: FixedFormatter should only be used together with FixedLocator\n",
      "  dates_plot.set_xticklabels(dates_plot.get_xticklabels(), rotation = 90)\n"
     ]
    },
    {
     "data": {
      "image/png": "[encoded data removed]",
      "text/plain": [
       "<Figure size 1500x500 with 1 Axes>"
      ]
     },
     "metadata": {},
     "output_type": "display_data"
    }
   ],
   "source": [
    "# сначала через pyplot\n",
    "fig, ax = plt.subplots(figsize=(15, 5))\n",
    "dates_plot = sns.lineplot(x=dates_counter.keys(), y=dates_counter.values())\n",
    "dates_plot.set_xticklabels(dates_plot.get_xticklabels(), rotation = 90)\n",
    "sns.despine()"
   ]
  },
  {
   "cell_type": "markdown",
   "metadata": {},
   "source": [
    "Единственный пик получения ответов - с 13 по 18 декабря 2019. Дальше суточное количество ответов не превышало 1000, постепенно снижаясь (с небольшими краткими подъемами)."
   ]
  },
  {
   "cell_type": "code",
   "execution_count": 122,
   "metadata": {},
   "outputs": [
    {
     "data": {
      "text/html": [
       "<div>\n",
       "<style scoped>\n",
       "    .dataframe tbody tr th:only-of-type {\n",
       "        vertical-align: middle;\n",
       "    }\n",
       "\n",
       "    .dataframe tbody tr th {\n",
       "        vertical-align: top;\n",
       "    }\n",
       "\n",
       "    .dataframe thead th {\n",
       "        text-align: right;\n",
       "    }\n",
       "</style>\n",
       "<table border=\"1\" class=\"dataframe\">\n",
       "  <thead>\n",
       "    <tr style=\"text-align: right;\">\n",
       "      <th></th>\n",
       "      <th>date</th>\n",
       "      <th>answers</th>\n",
       "      <th>cumulative_ans</th>\n",
       "    </tr>\n",
       "  </thead>\n",
       "  <tbody>\n",
       "    <tr>\n",
       "      <th>0</th>\n",
       "      <td>2019-11-28</td>\n",
       "      <td>2</td>\n",
       "      <td>2</td>\n",
       "    </tr>\n",
       "    <tr>\n",
       "      <th>1</th>\n",
       "      <td>2019-12-02</td>\n",
       "      <td>1</td>\n",
       "      <td>3</td>\n",
       "    </tr>\n",
       "    <tr>\n",
       "      <th>2</th>\n",
       "      <td>2019-12-10</td>\n",
       "      <td>1</td>\n",
       "      <td>4</td>\n",
       "    </tr>\n",
       "    <tr>\n",
       "      <th>3</th>\n",
       "      <td>2019-12-11</td>\n",
       "      <td>2</td>\n",
       "      <td>6</td>\n",
       "    </tr>\n",
       "    <tr>\n",
       "      <th>4</th>\n",
       "      <td>2019-12-12</td>\n",
       "      <td>1</td>\n",
       "      <td>7</td>\n",
       "    </tr>\n",
       "    <tr>\n",
       "      <th>...</th>\n",
       "      <td>...</td>\n",
       "      <td>...</td>\n",
       "      <td>...</td>\n",
       "    </tr>\n",
       "    <tr>\n",
       "      <th>66</th>\n",
       "      <td>2020-02-12</td>\n",
       "      <td>44</td>\n",
       "      <td>42920</td>\n",
       "    </tr>\n",
       "    <tr>\n",
       "      <th>67</th>\n",
       "      <td>2020-02-13</td>\n",
       "      <td>32</td>\n",
       "      <td>42952</td>\n",
       "    </tr>\n",
       "    <tr>\n",
       "      <th>68</th>\n",
       "      <td>2020-02-14</td>\n",
       "      <td>32</td>\n",
       "      <td>42984</td>\n",
       "    </tr>\n",
       "    <tr>\n",
       "      <th>69</th>\n",
       "      <td>2020-02-15</td>\n",
       "      <td>58</td>\n",
       "      <td>43042</td>\n",
       "    </tr>\n",
       "    <tr>\n",
       "      <th>70</th>\n",
       "      <td>2020-02-16</td>\n",
       "      <td>72</td>\n",
       "      <td>43114</td>\n",
       "    </tr>\n",
       "  </tbody>\n",
       "</table>\n",
       "<p>71 rows × 3 columns</p>\n",
       "</div>"
      ],
      "text/plain": [
       "          date  answers  cumulative_ans\n",
       "0   2019-11-28        2               2\n",
       "1   2019-12-02        1               3\n",
       "2   2019-12-10        1               4\n",
       "3   2019-12-11        2               6\n",
       "4   2019-12-12        1               7\n",
       "..         ...      ...             ...\n",
       "66  2020-02-12       44           42920\n",
       "67  2020-02-13       32           42952\n",
       "68  2020-02-14       32           42984\n",
       "69  2020-02-15       58           43042\n",
       "70  2020-02-16       72           43114\n",
       "\n",
       "[71 rows x 3 columns]"
      ]
     },
     "execution_count": 122,
     "metadata": {},
     "output_type": "execute_result"
    }
   ],
   "source": [
    "# если буду делать общий график сбора и кумулятивный\n",
    "answers_df = pd.DataFrame(list(dates_counter.items()))\n",
    "answers_df.columns = ['date', 'answers']\n",
    "answers_df['cumulative_ans'] = answers_df['answers'].cumsum()\n",
    "answers_df"
   ]
  },
  {
   "cell_type": "markdown",
   "metadata": {},
   "source": [
    "Возраст выборки"
   ]
  },
  {
   "cell_type": "code",
   "execution_count": 123,
   "metadata": {},
   "outputs": [
    {
     "data": {
      "text/plain": [
       "(array(['36-42', '28-35', '22-27', '43-50', '17-21', '50-59', '60+',\n",
       "        'Dec 16', 'Dont want to answer', nan], dtype=object),\n",
       " 22-27                  16847\n",
       " 28-35                  13611\n",
       " 17-21                   7971\n",
       " 36-42                   2384\n",
       " Dec 16                   850\n",
       " 43-50                    814\n",
       " 50-59                    329\n",
       " 60+                      161\n",
       " Dont want to answer      146\n",
       " Name: What is your age?, dtype: int64)"
      ]
     },
     "execution_count": 123,
     "metadata": {},
     "output_type": "execute_result"
    }
   ],
   "source": [
    "df['What is your age?'].unique(), df['What is your age?'].value_counts()"
   ]
  },
  {
   "cell_type": "markdown",
   "metadata": {},
   "source": [
    "3 варианта ответов можно убрать из визуализации: \"Dont want to answer\", \"Dec 16\", \"\" - их мало относительно всех респондентов и они не несут значимой информации по возрасту (хотя количество ответов Dec 16 вызывает вопросы)."
   ]
  },
  {
   "cell_type": "code",
   "execution_count": 124,
   "metadata": {},
   "outputs": [
    {
     "name": "stdout",
     "output_type": "stream",
     "text": [
      "Применение фильтра удалит 996 из 43114 ответов, т.е. 2.31%\n"
     ]
    }
   ],
   "source": [
    "age_flt  = (df['What is your age?'] != 'Dec 16') & (df['What is your age?'] != 'Dont want to answer')\n",
    "age_len = len(df['What is your age?'])\n",
    "age_err = len(df['What is your age?'][age_flt])\n",
    "print(f\"Применение фильтра удалит {age_len - age_err} из {age_len} ответов, т.е. {round(((age_len - age_err) / age_len) * 100, 2)}%\")"
   ]
  },
  {
   "cell_type": "code",
   "execution_count": 125,
   "metadata": {},
   "outputs": [
    {
     "data": {
      "text/plain": [
       "17-21     7971\n",
       "22-27    16847\n",
       "28-35    13611\n",
       "36-42     2384\n",
       "43-50      814\n",
       "50-59      329\n",
       "60+        161\n",
       "Name: What is your age?, dtype: int64"
      ]
     },
     "execution_count": 125,
     "metadata": {},
     "output_type": "execute_result"
    }
   ],
   "source": [
    "ages = df['What is your age?'].dropna()[age_flt].value_counts(sort=False)\n",
    "ages.sort_index(ascending=True, inplace=True)\n",
    "ages"
   ]
  },
  {
   "cell_type": "code",
   "execution_count": 126,
   "metadata": {},
   "outputs": [
    {
     "data": {
      "image/png": "[encoded data removed]",
      "text/plain": [
       "<Figure size 640x480 with 1 Axes>"
      ]
     },
     "metadata": {},
     "output_type": "display_data"
    }
   ],
   "source": [
    "plt.style.use('seaborn-v0_8-whitegrid')\n",
    "plt.bar(x=ages.index, height=ages)\n",
    "plt.grid(axis='x')\n",
    "plt.tight_layout()"
   ]
  },
  {
   "cell_type": "code",
   "execution_count": 127,
   "metadata": {},
   "outputs": [
    {
     "data": {
      "text/plain": [
       "[('The Witcher', 38992),\n",
       " ('Elder Scrolls', 38590),\n",
       " ('Risen', 34734),\n",
       " ('Fallout', 28382),\n",
       " ('ELEX', 23946),\n",
       " ('ArcaniA', 22356),\n",
       " ('Kingdom Come', 17639),\n",
       " ('Mount & Blade', 17258),\n",
       " ('For Honor', 13178),\n",
       " ('Dark Souls', 561)]"
      ]
     },
     "execution_count": 127,
     "metadata": {},
     "output_type": "execute_result"
    }
   ],
   "source": [
    "games_counter = Counter()\n",
    "games_series = df['Which of these other games/game series have you played?'].dropna()\n",
    "for el in games_series.index:\n",
    "    games_counter.update([i.strip() for i in games_series[el].split(\",\")])\n",
    "games_counter.most_common(10)"
   ]
  },
  {
   "cell_type": "markdown",
   "metadata": {},
   "source": [
    "После 'For Honor' идет сильное снижение ниже 600, поэтому для визуализации возьму только те игры, которые упомянули более 600 опрошенными."
   ]
  },
  {
   "cell_type": "code",
   "execution_count": 128,
   "metadata": {},
   "outputs": [
    {
     "data": {
      "text/plain": [
       "[(None, None),\n",
       " (None, None),\n",
       " (None, None),\n",
       " (None, None),\n",
       " (None, None),\n",
       " (None, None),\n",
       " (None, None),\n",
       " (None, None),\n",
       " (None, None)]"
      ]
     },
     "execution_count": 128,
     "metadata": {},
     "output_type": "execute_result"
    }
   ],
   "source": [
    "# кривовато, оптимизировать?\n",
    "games = []\n",
    "games_players = []\n",
    "[(games.append(x), games_players.append(y)) for x, y in games_counter.most_common(9)]"
   ]
  },
  {
   "cell_type": "code",
   "execution_count": 129,
   "metadata": {},
   "outputs": [
    {
     "data": {
      "image/png": "[encoded data removed]",
      "text/plain": [
       "<Figure size 640x480 with 1 Axes>"
      ]
     },
     "metadata": {},
     "output_type": "display_data"
    }
   ],
   "source": [
    "\n",
    "plt.barh(y=games, width=games_players)\n",
    "plt.grid(axis='y')\n",
    "plt.tight_layout()"
   ]
  },
  {
   "cell_type": "markdown",
   "metadata": {},
   "source": [
    "Самые популярные: The Witcher, Elder Scrolls, Risen, Fallout и Elex."
   ]
  },
  {
   "cell_type": "code",
   "execution_count": 130,
   "metadata": {},
   "outputs": [
    {
     "data": {
      "text/plain": [
       "array(['RPG, Turn basted strategy, RTS',\n",
       "       'RPG, MMO, Action/Shooters, Strategy', 'RPG, Action Adventure',\n",
       "       ..., 'RPG, Action Adventure, Tactic', 'RPG, RTS, 4X, Strategy',\n",
       "       'RPG, Action Adventure, MMO, 2D Jump&Run'], dtype=object)"
      ]
     },
     "execution_count": 130,
     "metadata": {},
     "output_type": "execute_result"
    }
   ],
   "source": [
    "df['What are your favorite genres?'].unique()"
   ]
  },
  {
   "cell_type": "code",
   "execution_count": 131,
   "metadata": {},
   "outputs": [
    {
     "data": {
      "text/plain": [
       "29222    NaN\n",
       "Name: What are your favorite genres?, dtype: object"
      ]
     },
     "execution_count": 131,
     "metadata": {},
     "output_type": "execute_result"
    }
   ],
   "source": [
    "df['What are your favorite genres?'][df['What are your favorite genres?'].isna()]"
   ]
  },
  {
   "cell_type": "markdown",
   "metadata": {},
   "source": [
    "Есть одно NaN, это нужно учесть. А т.к. ответ предлагал возможность сочетания нескольких вариантов, снова через счетчик."
   ]
  },
  {
   "cell_type": "code",
   "execution_count": 132,
   "metadata": {},
   "outputs": [
    {
     "data": {
      "text/plain": [
       "[('RPG', 42011),\n",
       " ('Action Adventure', 18890),\n",
       " ('Action/Shooters', 12484),\n",
       " ('MMO', 10648),\n",
       " ('Strategy', 750),\n",
       " ('RTS', 549),\n",
       " ('MOBA', 189),\n",
       " ('strategy', 125),\n",
       " ('Strategie', 79),\n",
       " ('Racing', 67)]"
      ]
     },
     "execution_count": 132,
     "metadata": {},
     "output_type": "execute_result"
    }
   ],
   "source": [
    "genres_counter = Counter()\n",
    "genres_answers = df['What are your favorite genres?'].dropna()\n",
    "for el in genres_answers.index:\n",
    "    genres_counter.update([i.strip() for i in genres_answers[el].split(\",\")])\n",
    "genres_counter.most_common(10)"
   ]
  },
  {
   "cell_type": "markdown",
   "metadata": {},
   "source": [
    "Также существенное снижение по количеству ответов после стратегий."
   ]
  },
  {
   "cell_type": "code",
   "execution_count": 133,
   "metadata": {},
   "outputs": [
    {
     "data": {
      "image/png": "[encoded data removed]",
      "text/plain": [
       "<Figure size 640x480 with 1 Axes>"
      ]
     },
     "metadata": {},
     "output_type": "display_data"
    }
   ],
   "source": [
    "genres = dict(genres_counter.most_common(4))\n",
    "plt.bar(x=genres.keys(), height=genres.values())\n",
    "plt.grid(axis='x')\n",
    "plt.tight_layout()"
   ]
  },
  {
   "cell_type": "code",
   "execution_count": 134,
   "metadata": {},
   "outputs": [
    {
     "data": {
      "text/plain": [
       "PC                      28888\n",
       "PC, Consoles             9873\n",
       "PC, Consoles, Phones     2458\n",
       "PC, Phones               1464\n",
       "Consoles                  412\n",
       "Consoles, Phones           15\n",
       "Phones                      3\n",
       "Name: On which platforms do you play games?, dtype: int64"
      ]
     },
     "execution_count": 134,
     "metadata": {},
     "output_type": "execute_result"
    }
   ],
   "source": [
    "df['On which platforms do you play games?'].value_counts()"
   ]
  },
  {
   "cell_type": "code",
   "execution_count": 135,
   "metadata": {},
   "outputs": [
    {
     "name": "stderr",
     "output_type": "stream",
     "text": [
      "d:\\anaconda3\\lib\\site-packages\\seaborn\\axisgrid.py:118: UserWarning: The figure layout has changed to tight\n",
      "  self._figure.tight_layout(*args, **kwargs)\n"
     ]
    },
    {
     "data": {
      "text/plain": [
       "<seaborn.axisgrid.FacetGrid at 0x1ff795714e0>"
      ]
     },
     "execution_count": 135,
     "metadata": {},
     "output_type": "execute_result"
    },
    {
     "data": {
      "image/png": "[encoded data removed]",
      "text/plain": [
       "<Figure size 500x500 with 1 Axes>"
      ]
     },
     "metadata": {},
     "output_type": "display_data"
    }
   ],
   "source": [
    "platforms = sns.displot(data=df, y='On which platforms do you play games?')\n",
    "platforms.set(xlabel='Респонденты', ylabel='Платформы')"
   ]
  },
  {
   "cell_type": "markdown",
   "metadata": {},
   "source": [
    "<h1>Опыт игры в серию Готика</h1>"
   ]
  },
  {
   "cell_type": "code",
   "execution_count": 136,
   "metadata": {},
   "outputs": [
    {
     "data": {
      "image/png": "[encoded data removed]",
      "text/plain": [
       "<Figure size 640x480 with 1 Axes>"
      ]
     },
     "metadata": {},
     "output_type": "display_data"
    }
   ],
   "source": [
    "diehard_fan = df['Would you call yourself a diehard Gothic fan?'].value_counts()\n",
    "plt.bar(diehard_fan.index, diehard_fan.values)\n",
    "plt.suptitle('Вы считаете себя хардкорным фанатом Готики?')\n",
    "plt.tight_layout()"
   ]
  },
  {
   "cell_type": "markdown",
   "metadata": {},
   "source": [
    "В какие части Готики играли опрошенные?"
   ]
  },
  {
   "cell_type": "code",
   "execution_count": 137,
   "metadata": {},
   "outputs": [],
   "source": [
    "gothic_games_counter = Counter()\n",
    "dt = df['What Gothic games have you played?'].dropna()"
   ]
  },
  {
   "cell_type": "code",
   "execution_count": 138,
   "metadata": {},
   "outputs": [
    {
     "data": {
      "text/plain": [
       "Counter({'Gothic': 40330,\n",
       "         'Gothic 2 (including Night of the Raven)': 40588,\n",
       "         'Gothic 3': 39434})"
      ]
     },
     "execution_count": 138,
     "metadata": {},
     "output_type": "execute_result"
    }
   ],
   "source": [
    "for el in dt.index:\n",
    "    gothic_games_counter.update([i.strip() for i in dt[el].split(\",\")])\n",
    "\n",
    "gothic_games_counter"
   ]
  },
  {
   "cell_type": "code",
   "execution_count": 139,
   "metadata": {},
   "outputs": [
    {
     "data": {
      "image/png": "[encoded data removed]",
      "text/plain": [
       "<Figure size 640x480 with 1 Axes>"
      ]
     },
     "metadata": {},
     "output_type": "display_data"
    }
   ],
   "source": [
    "plt.bar(gothic_games_counter.keys(), gothic_games_counter.values())\n",
    "plt.tight_layout()"
   ]
  },
  {
   "cell_type": "markdown",
   "metadata": {},
   "source": [
    "Существенных различий нет, но вторую часть (с дополнением \"Ночь Ворона\") упоминали чуть больше остальных."
   ]
  },
  {
   "cell_type": "code",
   "execution_count": 140,
   "metadata": {},
   "outputs": [
    {
     "data": {
      "text/plain": [
       "Gothic 2 (with or without Night of the Raven)                      18300\n",
       "Gothic, Gothic 2 (with or without Night of the Raven)               9221\n",
       "Gothic                                                              7622\n",
       "Gothic, Gothic 2 (with or without Night of the Raven), Gothic 3     3565\n",
       "Gothic 3                                                            3312\n",
       "Gothic 2 (with or without Night of the Raven), Gothic 3              710\n",
       "Gothic, Gothic 3                                                     383\n",
       "Name: What was your favorite Gothic game?, dtype: int64"
      ]
     },
     "execution_count": 140,
     "metadata": {},
     "output_type": "execute_result"
    }
   ],
   "source": [
    "df['What was your favorite Gothic game?'].value_counts()"
   ]
  },
  {
   "cell_type": "markdown",
   "metadata": {},
   "source": [
    "Также вторая часть оказалась самой предпочитаемой как среди отдельных игр, так и их сочетаний."
   ]
  },
  {
   "cell_type": "markdown",
   "metadata": {},
   "source": [
    "<h2>Оценка опыта игры в тизер Готики</h2>\n",
    "<h3>Визуал</h3>"
   ]
  },
  {
   "cell_type": "code",
   "execution_count": 141,
   "metadata": {},
   "outputs": [
    {
     "name": "stdout",
     "output_type": "stream",
     "text": [
      "Тизер не прошли 16.0% участвовавших в опросе.\n"
     ]
    }
   ],
   "source": [
    "print(f\"Тизер не прошли {round(len(df['Have you finished Gothic Playable Teaser?'][df['Have you finished Gothic Playable Teaser?'] == 'No'])/len(df.index), 2) * 100}% участвовавших в опросе.\")"
   ]
  },
  {
   "cell_type": "code",
   "execution_count": 142,
   "metadata": {},
   "outputs": [
    {
     "data": {
      "text/plain": [
       "Text(0.5, 0.98, 'Вы прошли тизер?')"
      ]
     },
     "execution_count": 142,
     "metadata": {},
     "output_type": "execute_result"
    },
    {
     "data": {
      "image/png": "[encoded data removed]",
      "text/plain": [
       "<Figure size 640x480 with 1 Axes>"
      ]
     },
     "metadata": {},
     "output_type": "display_data"
    }
   ],
   "source": [
    "finished = df['Have you finished Gothic Playable Teaser?'].value_counts()\n",
    "plt.bar(finished.index, finished.values)\n",
    "plt.suptitle('Вы прошли тизер?')"
   ]
  },
  {
   "cell_type": "code",
   "execution_count": 143,
   "metadata": {},
   "outputs": [
    {
     "data": {
      "text/plain": [
       "10        1\n",
       "8         1\n",
       "9         1\n",
       "5      8966\n",
       "4     19645\n",
       "3     10434\n",
       "2      3341\n",
       "1       725\n",
       "Name: Please rate the visuals in the Gothic Playable Teaser, dtype: int64"
      ]
     },
     "execution_count": 143,
     "metadata": {},
     "output_type": "execute_result"
    }
   ],
   "source": [
    "df['Please rate the visuals in the Gothic Playable Teaser'].value_counts(sort=False)"
   ]
  },
  {
   "cell_type": "markdown",
   "metadata": {},
   "source": [
    "Ответы в 8-10 баллов по 1 респонденту и отсутствие ответов в 6-7 баллов выглядят подозрительно. "
   ]
  },
  {
   "cell_type": "code",
   "execution_count": 144,
   "metadata": {},
   "outputs": [
    {
     "data": {
      "text/html": [
       "<div>\n",
       "<style scoped>\n",
       "    .dataframe tbody tr th:only-of-type {\n",
       "        vertical-align: middle;\n",
       "    }\n",
       "\n",
       "    .dataframe tbody tr th {\n",
       "        vertical-align: top;\n",
       "    }\n",
       "\n",
       "    .dataframe thead th {\n",
       "        text-align: right;\n",
       "    }\n",
       "</style>\n",
       "<table border=\"1\" class=\"dataframe\">\n",
       "  <thead>\n",
       "    <tr style=\"text-align: right;\">\n",
       "      <th></th>\n",
       "      <th>Timestamp</th>\n",
       "      <th>What is your age?</th>\n",
       "      <th>What type of gamer do you consider yourself?</th>\n",
       "      <th>What Gothic games have you played?</th>\n",
       "      <th>Which of these other games/game series have you played?</th>\n",
       "      <th>What are your favorite genres?</th>\n",
       "      <th>On which platforms do you play games?</th>\n",
       "      <th>How did you play Gothic Playable Teaser?</th>\n",
       "      <th>Have you finished Gothic Playable Teaser?</th>\n",
       "      <th>Please rate the visuals in the Gothic Playable Teaser</th>\n",
       "      <th>Please rate the animations in the Gothic Playable Teaser</th>\n",
       "      <th>Please rate the sound in the Gothic Playable Teaser</th>\n",
       "      <th>Please rate the music in the Gothic Playable Teaser</th>\n",
       "      <th>Please rate the controls in the Gothic Playable Teaser</th>\n",
       "      <th>Please rate the combat system in the Gothic Playable Teaser</th>\n",
       "      <th>How did you like the approach to re-interpret the plot?</th>\n",
       "      <th>What do you like to see as next Gothic game?</th>\n",
       "      <th>Would you call yourself a diehard Gothic fan?</th>\n",
       "      <th>What was your favorite Gothic game?</th>\n",
       "      <th>Please rate the English VO in the Gothic Playable Teaser</th>\n",
       "      <th>What overall score would you give the Gothic Playable Teaser?</th>\n",
       "      <th>Based on what you have played in Gothic Playable Teaser: Would you want us to continue the development and release it as a full game?</th>\n",
       "      <th>Please rate the user interface in the Gothic Playable Teaser</th>\n",
       "    </tr>\n",
       "  </thead>\n",
       "  <tbody>\n",
       "    <tr>\n",
       "      <th>0</th>\n",
       "      <td>2019-11-28 13:55:38</td>\n",
       "      <td>36-42</td>\n",
       "      <td>5.0</td>\n",
       "      <td>Gothic, Gothic 2 (including Night of the Raven...</td>\n",
       "      <td>Elder Scrolls, The Witcher, Risen, ArcaniA, Fa...</td>\n",
       "      <td>RPG, Turn basted strategy, RTS</td>\n",
       "      <td>PC</td>\n",
       "      <td>Keyboard/Mouse</td>\n",
       "      <td>Yes</td>\n",
       "      <td>10</td>\n",
       "      <td>8</td>\n",
       "      <td>3</td>\n",
       "      <td>4</td>\n",
       "      <td>3</td>\n",
       "      <td>4</td>\n",
       "      <td>It was spot on!</td>\n",
       "      <td>Gothic Sequel</td>\n",
       "      <td>No</td>\n",
       "      <td>Gothic, Gothic 2 (with or without Night of the...</td>\n",
       "      <td>4</td>\n",
       "      <td>85</td>\n",
       "      <td>Yes</td>\n",
       "      <td>NaN</td>\n",
       "    </tr>\n",
       "    <tr>\n",
       "      <th>1</th>\n",
       "      <td>2019-11-28 14:06:46</td>\n",
       "      <td>36-42</td>\n",
       "      <td>4.0</td>\n",
       "      <td>Gothic, Gothic 2 (including Night of the Raven...</td>\n",
       "      <td>Elder Scrolls, The Witcher, Mount &amp; Blade, Kin...</td>\n",
       "      <td>RPG, MMO, Action/Shooters, Strategy</td>\n",
       "      <td>PC, Consoles</td>\n",
       "      <td>Keyboard/Mouse</td>\n",
       "      <td>Yes</td>\n",
       "      <td>8</td>\n",
       "      <td>9</td>\n",
       "      <td>4</td>\n",
       "      <td>5</td>\n",
       "      <td>3</td>\n",
       "      <td>2</td>\n",
       "      <td>Didnt like it at all</td>\n",
       "      <td>Gothic Sequel</td>\n",
       "      <td>No</td>\n",
       "      <td>Gothic 3</td>\n",
       "      <td>4</td>\n",
       "      <td>80</td>\n",
       "      <td>Yes</td>\n",
       "      <td>NaN</td>\n",
       "    </tr>\n",
       "    <tr>\n",
       "      <th>2</th>\n",
       "      <td>2019-12-02 18:18:52</td>\n",
       "      <td>36-42</td>\n",
       "      <td>4.0</td>\n",
       "      <td>Gothic, Gothic 2 (including Night of the Raven...</td>\n",
       "      <td>Elder Scrolls, The Witcher, Kingdom Come, Rise...</td>\n",
       "      <td>RPG, Action Adventure</td>\n",
       "      <td>PC, Consoles</td>\n",
       "      <td>Gamepad</td>\n",
       "      <td>Yes</td>\n",
       "      <td>9</td>\n",
       "      <td>9</td>\n",
       "      <td>4</td>\n",
       "      <td>4</td>\n",
       "      <td>4</td>\n",
       "      <td>4</td>\n",
       "      <td>It was spot on!</td>\n",
       "      <td>Gothic Remake(s)</td>\n",
       "      <td>No</td>\n",
       "      <td>Gothic</td>\n",
       "      <td>4</td>\n",
       "      <td>80</td>\n",
       "      <td>Yes</td>\n",
       "      <td>NaN</td>\n",
       "    </tr>\n",
       "  </tbody>\n",
       "</table>\n",
       "</div>"
      ],
      "text/plain": [
       "            Timestamp What is your age?  \\\n",
       "0 2019-11-28 13:55:38             36-42   \n",
       "1 2019-11-28 14:06:46             36-42   \n",
       "2 2019-12-02 18:18:52             36-42   \n",
       "\n",
       "   What type of gamer do you consider yourself?  \\\n",
       "0                                           5.0   \n",
       "1                                           4.0   \n",
       "2                                           4.0   \n",
       "\n",
       "                  What Gothic games have you played?  \\\n",
       "0  Gothic, Gothic 2 (including Night of the Raven...   \n",
       "1  Gothic, Gothic 2 (including Night of the Raven...   \n",
       "2  Gothic, Gothic 2 (including Night of the Raven...   \n",
       "\n",
       "  Which of these other games/game series have you played?  \\\n",
       "0  Elder Scrolls, The Witcher, Risen, ArcaniA, Fa...        \n",
       "1  Elder Scrolls, The Witcher, Mount & Blade, Kin...        \n",
       "2  Elder Scrolls, The Witcher, Kingdom Come, Rise...        \n",
       "\n",
       "        What are your favorite genres? On which platforms do you play games?  \\\n",
       "0       RPG, Turn basted strategy, RTS                                    PC   \n",
       "1  RPG, MMO, Action/Shooters, Strategy                          PC, Consoles   \n",
       "2                RPG, Action Adventure                          PC, Consoles   \n",
       "\n",
       "  How did you play Gothic Playable Teaser?  \\\n",
       "0                           Keyboard/Mouse   \n",
       "1                           Keyboard/Mouse   \n",
       "2                                  Gamepad   \n",
       "\n",
       "  Have you finished Gothic Playable Teaser?  \\\n",
       "0                                       Yes   \n",
       "1                                       Yes   \n",
       "2                                       Yes   \n",
       "\n",
       "   Please rate the visuals in the Gothic Playable Teaser  \\\n",
       "0                                                 10       \n",
       "1                                                  8       \n",
       "2                                                  9       \n",
       "\n",
       "   Please rate the animations in the Gothic Playable Teaser  \\\n",
       "0                                                  8          \n",
       "1                                                  9          \n",
       "2                                                  9          \n",
       "\n",
       "   Please rate the sound in the Gothic Playable Teaser  \\\n",
       "0                                                  3     \n",
       "1                                                  4     \n",
       "2                                                  4     \n",
       "\n",
       "   Please rate the music in the Gothic Playable Teaser  \\\n",
       "0                                                  4     \n",
       "1                                                  5     \n",
       "2                                                  4     \n",
       "\n",
       "   Please rate the controls in the Gothic Playable Teaser  \\\n",
       "0                                                  3        \n",
       "1                                                  3        \n",
       "2                                                  4        \n",
       "\n",
       "   Please rate the combat system in the Gothic Playable Teaser  \\\n",
       "0                                                  4             \n",
       "1                                                  2             \n",
       "2                                                  4             \n",
       "\n",
       "  How did you like the approach to re-interpret the plot?  \\\n",
       "0                                    It was spot on!        \n",
       "1                               Didnt like it at all        \n",
       "2                                    It was spot on!        \n",
       "\n",
       "  What do you like to see as next Gothic game?  \\\n",
       "0                                Gothic Sequel   \n",
       "1                                Gothic Sequel   \n",
       "2                             Gothic Remake(s)   \n",
       "\n",
       "  Would you call yourself a diehard Gothic fan?  \\\n",
       "0                                            No   \n",
       "1                                            No   \n",
       "2                                            No   \n",
       "\n",
       "                 What was your favorite Gothic game?  \\\n",
       "0  Gothic, Gothic 2 (with or without Night of the...   \n",
       "1                                           Gothic 3   \n",
       "2                                             Gothic   \n",
       "\n",
       "   Please rate the English VO in the Gothic Playable Teaser  \\\n",
       "0                                                  4          \n",
       "1                                                  4          \n",
       "2                                                  4          \n",
       "\n",
       "  What overall score would you give the Gothic Playable Teaser?  \\\n",
       "0                                                 85              \n",
       "1                                                 80              \n",
       "2                                                 80              \n",
       "\n",
       "  Based on what you have played in Gothic Playable Teaser: Would you want us to continue the development and release it as a full game?  \\\n",
       "0                                                Yes                                                                                      \n",
       "1                                                Yes                                                                                      \n",
       "2                                                Yes                                                                                      \n",
       "\n",
       "   Please rate the user interface in the Gothic Playable Teaser  \n",
       "0                                                NaN             \n",
       "1                                                NaN             \n",
       "2                                                NaN             "
      ]
     },
     "execution_count": 144,
     "metadata": {},
     "output_type": "execute_result"
    }
   ],
   "source": [
    "df[df['Please rate the visuals in the Gothic Playable Teaser'] > 5]"
   ]
  },
  {
   "cell_type": "markdown",
   "metadata": {},
   "source": [
    "<p>Схожая картина по вопросу оценки анимации</p>"
   ]
  },
  {
   "cell_type": "code",
   "execution_count": 145,
   "metadata": {},
   "outputs": [
    {
     "data": {
      "text/plain": [
       "8        1\n",
       "9        2\n",
       "4    16164\n",
       "5     4813\n",
       "3    15200\n",
       "2     5949\n",
       "1      985\n",
       "Name: Please rate the animations in the Gothic Playable Teaser, dtype: int64"
      ]
     },
     "execution_count": 145,
     "metadata": {},
     "output_type": "execute_result"
    }
   ],
   "source": [
    "df['Please rate the animations in the Gothic Playable Teaser'].value_counts(sort=False)"
   ]
  },
  {
   "cell_type": "markdown",
   "metadata": {},
   "source": [
    "<p>Аномальные ответы ответы идут первыми 3 строками таблицы, заполненной от даты начала сбора данных. Предположу, что сначала использовалась 10-балльная шкала, а потом ее изменили на 5-балльную, но ответы остались.</p>\n",
    "<p>Следуя предположению, исключаю ответы первых 3 людей по первым 2 вопросам на оценку</p>"
   ]
  },
  {
   "cell_type": "code",
   "execution_count": 146,
   "metadata": {},
   "outputs": [
    {
     "data": {
      "image/png": "[encoded data removed]",
      "text/plain": [
       "<Figure size 650x480 with 2 Axes>"
      ]
     },
     "metadata": {},
     "output_type": "display_data"
    }
   ],
   "source": [
    "visual = df['Please rate the visuals in the Gothic Playable Teaser'][3:].value_counts()\n",
    "animation = df['Please rate the animations in the Gothic Playable Teaser'][3:].value_counts()\n",
    "f, (ax1, ax2) = plt.subplots(1, 2, sharey=True)\n",
    "f.suptitle('Оценка визуальной составляющей')\n",
    "ax1.bar(x=visual.index, height=visual.values)\n",
    "ax1.set_ylabel('Количество ответов')\n",
    "ax1.set_xlabel('Визуал')\n",
    "ax2.bar(x=animation.index, height=animation.values)\n",
    "ax2.set_xlabel('Анимация')\n",
    "f.set_figwidth(6.5)\n",
    "plt.tight_layout()"
   ]
  },
  {
   "cell_type": "code",
   "execution_count": 147,
   "metadata": {},
   "outputs": [
    {
     "name": "stdout",
     "output_type": "stream",
     "text": [
      "Средняя оценка визуала 3.76,\n",
      "анимации - 3.41\n"
     ]
    }
   ],
   "source": [
    "print(f\"Средняя оценка визуала {round(df['Please rate the visuals in the Gothic Playable Teaser'][3:].mean(), 2)},\\nанимации - {round(df['Please rate the animations in the Gothic Playable Teaser'][3:].mean(), 2)}\")"
   ]
  },
  {
   "cell_type": "markdown",
   "metadata": {},
   "source": [
    "<h3>Аудио</h3>"
   ]
  },
  {
   "cell_type": "code",
   "execution_count": 148,
   "metadata": {},
   "outputs": [
    {
     "data": {
      "image/png": "[encoded data removed]",
      "text/plain": [
       "<Figure size 1000x480 with 3 Axes>"
      ]
     },
     "metadata": {},
     "output_type": "display_data"
    }
   ],
   "source": [
    "sound = df['Please rate the sound in the Gothic Playable Teaser'].value_counts()\n",
    "music = df['Please rate the music in the Gothic Playable Teaser'].value_counts()\n",
    "vas = df['Please rate the English VO in the Gothic Playable Teaser'].value_counts()\n",
    "f, (ax1, ax2, ax3) = plt.subplots(1, 3, sharey=True)\n",
    "f.suptitle('Оценки звука')\n",
    "ax1.bar(x=sound.index, height=sound.values)\n",
    "ax1.set_ylabel('Количество ответов')\n",
    "ax1.set_xlabel('Звук')\n",
    "ax2.bar(x=music.index, height=music.values)\n",
    "ax2.set_xlabel('Музыка')\n",
    "ax3.bar(x=vas.index, height=vas.values)\n",
    "ax3.set_xlabel('Озвучка')\n",
    "f.set_figwidth(10)\n",
    "plt.tight_layout()"
   ]
  },
  {
   "cell_type": "markdown",
   "metadata": {},
   "source": [
    "<h3>Интерфейс</h3>"
   ]
  },
  {
   "cell_type": "code",
   "execution_count": 149,
   "metadata": {},
   "outputs": [
    {
     "data": {
      "image/png": "[encoded data removed]",
      "text/plain": [
       "<Figure size 1000x480 with 3 Axes>"
      ]
     },
     "metadata": {},
     "output_type": "display_data"
    }
   ],
   "source": [
    "controls = df['Please rate the controls in the Gothic Playable Teaser'].value_counts()\n",
    "combat_system = df['Please rate the combat system in the Gothic Playable Teaser'].value_counts()\n",
    "ui = df['Please rate the user interface in the Gothic Playable Teaser'].value_counts()\n",
    "f, (ax1, ax2, ax3) = plt.subplots(1, 3, sharey=True)\n",
    "f.suptitle('Оценка интерфейса')\n",
    "ax1.bar(x=controls.index, height=controls.values)\n",
    "ax1.set_xlabel('Управление')\n",
    "ax1.set_ylabel('Количество ответов')\n",
    "ax2.bar(x=combat_system.index, height=combat_system.values)\n",
    "ax2.set_xlabel('Боевка')\n",
    "ax3.bar(x=ui.index, height=ui.values)\n",
    "ax3.set_xlabel('Интерфейс пользователя')\n",
    "f.set_figwidth(10)\n",
    "plt.tight_layout()"
   ]
  },
  {
   "cell_type": "code",
   "execution_count": 150,
   "metadata": {},
   "outputs": [
    {
     "name": "stdout",
     "output_type": "stream",
     "text": [
      "Средние рейтинги по вопросам:\n",
      "Управление - 3.27,\n",
      "Боевка - 3.02,\n",
      "UI - 3.43\n"
     ]
    }
   ],
   "source": [
    "print(f\"Средние рейтинги по вопросам:\\nУправление - {round(df['Please rate the controls in the Gothic Playable Teaser'].mean(), 2)},\\nБоевка - {round(df['Please rate the combat system in the Gothic Playable Teaser'].mean(),2)},\\nUI - {round(df['Please rate the user interface in the Gothic Playable Teaser'].mean(),2)}\")"
   ]
  },
  {
   "cell_type": "code",
   "execution_count": 151,
   "metadata": {},
   "outputs": [
    {
     "data": {
      "text/plain": [
       "Counter({'85': 5255,\n",
       "         '80': 6774,\n",
       "         '70': 5544,\n",
       "         '75': 6626,\n",
       "         '30': 599,\n",
       "         '90, 90+': 111,\n",
       "         '90': 2869,\n",
       "         '90+': 3399,\n",
       "         '60': 4407,\n",
       "         '50': 2359,\n",
       "         '85, 90': 292,\n",
       "         '80, 85': 403,\n",
       "         'Below 30': 674,\n",
       "         '80, 85, 90, 90+': 12,\n",
       "         '30, 40': 58,\n",
       "         '40': 1588,\n",
       "         '60, 70': 463,\n",
       "         '50, 60': 230,\n",
       "         '70, 75': 340,\n",
       "         '80, 85, 90': 48,\n",
       "         '75, 80': 436,\n",
       "         '40, 50': 99,\n",
       "         '70, 80': 19,\n",
       "         'Below 30, 30, 40': 11,\n",
       "         '60, 80': 3,\n",
       "         'Below 30, 30, 90+': 1,\n",
       "         '85, 90, 90+': 32,\n",
       "         '40, 50, 60': 18,\n",
       "         'Below 30, 30': 16,\n",
       "         '75, 80, 85': 73,\n",
       "         'Below 30, 70': 5,\n",
       "         '50, 60, 70': 28,\n",
       "         '70, 85': 5,\n",
       "         '70, 75, 80': 83,\n",
       "         'Below 30, 30, 40, 50, 60, 70, 75, 80, 85, 90, 90+': 8,\n",
       "         '40, 70, 80': 1,\n",
       "         '40, 50, 60, 70': 1,\n",
       "         'Below 30, 85, 90+': 1,\n",
       "         '30, 40, 50': 6,\n",
       "         '75, 80, 85, 90': 9,\n",
       "         '70, 75, 80, 85': 9,\n",
       "         '60, 70, 75': 47,\n",
       "         'Below 30, 30, 40, 50': 2,\n",
       "         'Below 30, 75': 2,\n",
       "         '50, 70': 3,\n",
       "         '30, 85': 1,\n",
       "         '60, 75': 16,\n",
       "         '80, 90': 9,\n",
       "         '30, 90': 2,\n",
       "         '80, 90+': 5,\n",
       "         '30, 40, 50, 60': 5,\n",
       "         '85, 90+': 8,\n",
       "         'Below 30, 40': 3,\n",
       "         'Below 30, 85': 2,\n",
       "         'Below 30, 90+': 3,\n",
       "         '75, 85': 17,\n",
       "         '50, 60, 70, 75, 80': 3,\n",
       "         '60, 70, 75, 80, 85': 2,\n",
       "         '40, 60': 6,\n",
       "         '60, 70, 75, 80': 4,\n",
       "         '50, 85': 2,\n",
       "         '50, 80': 2,\n",
       "         '50, 75': 3,\n",
       "         'Below 30, 60': 2,\n",
       "         '70, 80, 90+': 1,\n",
       "         '40, 50, 60, 85': 1,\n",
       "         'Below 30, 60, 70': 1,\n",
       "         'Below 30, 50': 1,\n",
       "         '50, 60, 70, 75': 6,\n",
       "         '30, 50': 1,\n",
       "         '30, 80': 1,\n",
       "         '50, 90+': 4,\n",
       "         'Below 30, 80': 2,\n",
       "         '60, 75, 80': 1,\n",
       "         '75, 80, 85, 90, 90+': 4,\n",
       "         '40, 85': 3,\n",
       "         '30, 60': 2,\n",
       "         'Below 30, 30, 50': 1,\n",
       "         '30, 40, 50, 60, 70, 75, 80, 85, 90, 90+': 2,\n",
       "         '75, 90, 90+': 1,\n",
       "         '75, 80, 90+': 1,\n",
       "         'Below 30, 40, 50': 1,\n",
       "         '60, 85': 1,\n",
       "         '30, 75, 85': 1,\n",
       "         '60, 80, 85, 90': 1,\n",
       "         'Below 30, 30, 40, 50, 60, 70, 75, 80, 85': 1,\n",
       "         '70, 90+': 1,\n",
       "         '???? 30': 1,\n",
       "         '50, 60, 70, 75, 80, 85': 1,\n",
       "         '70, 90': 1,\n",
       "         '60, 90+': 1,\n",
       "         '30, 90+': 1,\n",
       "         '70, 75, 80, 85, 90': 1,\n",
       "         'Below 30, 30, 40, 50, 60, 70': 1,\n",
       "         '40, 90+': 1,\n",
       "         '80, 85, 90+': 1,\n",
       "         'Below 30, 30, 40, 50, 60, 70, 75, 80, 85, 90': 1,\n",
       "         '75, 85, 90': 1})"
      ]
     },
     "execution_count": 151,
     "metadata": {},
     "output_type": "execute_result"
    }
   ],
   "source": [
    "score_counter = Counter(df['What overall score would you give the Gothic Playable Teaser?'])\n",
    "score_counter"
   ]
  },
  {
   "cell_type": "markdown",
   "metadata": {},
   "source": [
    "<p>Похоже, что не настроили ограничения ответа - много \"грязных\" ответов. Вижу 3 варианта работы:</p>\n",
    "<ul><li>удалить все значения длиной больше 2 символов</li>\n",
    "<li>заменить 0+ на 1 и повторить удаление всего больше 2 символо</li>\n",
    "<li>заменить below n на n-1, по ответам с несколькими числовыми значениями рассчитать медиану.</li></ul>\n",
    "<p>Чтобы дальше сравнить все 3 варианта между собой и выбрать наиболее подходящий, сохраню как 3 разных объекта</p>\n"
   ]
  },
  {
   "cell_type": "code",
   "execution_count": 152,
   "metadata": {},
   "outputs": [
    {
     "name": "stdout",
     "output_type": "stream",
     "text": [
      "Ответов, в которых больше 2 элементов: 7093\n",
      "Избавиться от них - удалить 16.45% из 43114.\n"
     ]
    }
   ],
   "source": [
    "scores = df['What overall score would you give the Gothic Playable Teaser?']\n",
    "print(f\"Ответов, в которых больше 2 элементов: {sum(len(i) > 2 for i in scores)}\\nИзбавиться от них - удалить {round((sum(len(i) > 2 for i in scores)/len(df))*100, 2)}% из {len(scores)}.\")"
   ]
  },
  {
   "cell_type": "code",
   "execution_count": 174,
   "metadata": {},
   "outputs": [
    {
     "data": {
      "text/plain": [
       "count    36021.000\n",
       "mean        72.061\n",
       "std         13.732\n",
       "min         30.000\n",
       "25%         70.000\n",
       "50%         75.000\n",
       "75%         80.000\n",
       "max         90.000\n",
       "dtype: float64"
      ]
     },
     "execution_count": 174,
     "metadata": {},
     "output_type": "execute_result"
    }
   ],
   "source": [
    "scores0 = [int(i) for i in scores if len(i) < 3]\n",
    "scores0_descr = pd.Series(scores0).describe().round(3)\n",
    "scores0_descr"
   ]
  },
  {
   "cell_type": "code",
   "execution_count": 154,
   "metadata": {},
   "outputs": [
    {
     "name": "stdout",
     "output_type": "stream",
     "text": [
      "Ответов, в которых осталось больше 2 элементов: 3694\n",
      "Избавиться от них - удалить 8.57% от 43114.\n"
     ]
    },
    {
     "name": "stderr",
     "output_type": "stream",
     "text": [
      "C:\\Users\\Kulikov\\AppData\\Local\\Temp\\ipykernel_17800\\2092434347.py:1: FutureWarning: The default value of regex will change from True to False in a future version.\n",
      "  scores1 = scores.str.replace('0\\+', '1')\n"
     ]
    }
   ],
   "source": [
    "scores1 = scores.str.replace('0\\+', '1')\n",
    "print(f\"Ответов, в которых осталось больше 2 элементов: {sum(len(i) > 2 for i in scores1)}\\nИзбавиться от них - удалить {round((sum(len(i) > 2 for i in scores1)/len(df))*100, 2)}% от {len(scores1)}.\")"
   ]
  },
  {
   "cell_type": "code",
   "execution_count": 155,
   "metadata": {},
   "outputs": [
    {
     "data": {
      "text/plain": [
       "count    39420.000\n",
       "mean        73.694\n",
       "std         14.162\n",
       "min         30.000\n",
       "25%         70.000\n",
       "50%         75.000\n",
       "75%         85.000\n",
       "max         91.000\n",
       "dtype: float64"
      ]
     },
     "execution_count": 155,
     "metadata": {},
     "output_type": "execute_result"
    }
   ],
   "source": [
    "scores1 = [int(i) for i in scores1 if len(i) < 3]\n",
    "scores1_descr = pd.Series(scores1).describe().round(3)\n",
    "scores1_descr"
   ]
  },
  {
   "cell_type": "markdown",
   "metadata": {},
   "source": [
    "Что можно сделать дальше: заменю 'Below n' на n-1 ('Below 30' -> 29)"
   ]
  },
  {
   "cell_type": "code",
   "execution_count": 156,
   "metadata": {},
   "outputs": [
    {
     "name": "stdout",
     "output_type": "stream",
     "text": [
      "Below 30\n",
      "Below 30, 30, 40\n",
      "Below 30, 30, 90+\n",
      "Below 30, 30\n",
      "Below 30, 70\n",
      "Below 30, 30, 40, 50, 60, 70, 75, 80, 85, 90, 90+\n",
      "Below 30, 85, 90+\n",
      "Below 30, 30, 40, 50\n",
      "Below 30, 75\n",
      "Below 30, 40\n",
      "Below 30, 85\n",
      "Below 30, 90+\n",
      "Below 30, 60\n",
      "Below 30, 60, 70\n",
      "Below 30, 50\n",
      "Below 30, 80\n",
      "Below 30, 30, 50\n",
      "Below 30, 40, 50\n",
      "Below 30, 30, 40, 50, 60, 70, 75, 80, 85\n",
      "Below 30, 30, 40, 50, 60, 70\n",
      "Below 30, 30, 40, 50, 60, 70, 75, 80, 85, 90\n"
     ]
    }
   ],
   "source": [
    "for i in scores[scores.str.match('Below')].unique():\n",
    "    print(i)"
   ]
  },
  {
   "cell_type": "markdown",
   "metadata": {},
   "source": [
    "Паттерн один и без отклонений, поэтому использую простой вариант. Ответ '???? 30' встречается 1 раз и похож на 'Below 30, но за отсутствием подтверждения проще удалить."
   ]
  },
  {
   "cell_type": "code",
   "execution_count": 171,
   "metadata": {},
   "outputs": [
    {
     "name": "stderr",
     "output_type": "stream",
     "text": [
      "C:\\Users\\Kulikov\\AppData\\Local\\Temp\\ipykernel_17800\\2541144180.py:2: FutureWarning: The default value of regex will change from True to False in a future version.\n",
      "  scores_tmp = scores_tmp.str.replace('0\\+', '1')\n"
     ]
    }
   ],
   "source": [
    "scores_tmp = scores[scores != '???? 30']\n",
    "scores_tmp = scores_tmp.str.replace('0\\+', '1')"
   ]
  },
  {
   "cell_type": "code",
   "execution_count": 188,
   "metadata": {},
   "outputs": [
    {
     "data": {
      "text/plain": [
       "43113"
      ]
     },
     "execution_count": 188,
     "metadata": {},
     "output_type": "execute_result"
    }
   ],
   "source": [
    "scores2 = []\n",
    "for el in scores_tmp:\n",
    "    if len(el) < 3:\n",
    "        scores2.append(el)\n",
    "    elif len(el) == 8 and el.startswith('Below'):\n",
    "        scores2.append(str(int(el[6:8])-1))\n",
    "    elif el.startswith('Below'):\n",
    "        el_split = el.split(', ')\n",
    "        to_append = str(int(el_split[0][6:8]) - 1)\n",
    "        for i in el_split[1:]:\n",
    "            to_append += ', ' + i\n",
    "        scores2.append(to_append)\n",
    "    else:\n",
    "        scores2.append(el)\n",
    "        \n",
    "len(scores2)\n",
    "  "
   ]
  },
  {
   "cell_type": "code",
   "execution_count": 189,
   "metadata": {},
   "outputs": [
    {
     "data": {
      "text/plain": [
       "count    43113.000\n",
       "mean        72.897\n",
       "std         15.056\n",
       "min         29.000\n",
       "25%         70.000\n",
       "50%         75.000\n",
       "75%         85.000\n",
       "max         91.000\n",
       "dtype: float64"
      ]
     },
     "execution_count": 189,
     "metadata": {},
     "output_type": "execute_result"
    }
   ],
   "source": [
    "scores2 = [float(x) if len(x) < 3 else np.median([int(i) for i in x.split(', ')]) for x in scores2]\n",
    "scores2_descr = pd.Series(scores2).describe().round(3)\n",
    "scores2_descr"
   ]
  },
  {
   "cell_type": "markdown",
   "metadata": {},
   "source": [
    "Таблица описательных статистик по 3 вариантам данных общей оценки тизера"
   ]
  },
  {
   "cell_type": "code",
   "execution_count": 193,
   "metadata": {},
   "outputs": [
    {
     "data": {
      "text/html": [
       "<div>\n",
       "<style scoped>\n",
       "    .dataframe tbody tr th:only-of-type {\n",
       "        vertical-align: middle;\n",
       "    }\n",
       "\n",
       "    .dataframe tbody tr th {\n",
       "        vertical-align: top;\n",
       "    }\n",
       "\n",
       "    .dataframe thead th {\n",
       "        text-align: right;\n",
       "    }\n",
       "</style>\n",
       "<table border=\"1\" class=\"dataframe\">\n",
       "  <thead>\n",
       "    <tr style=\"text-align: right;\">\n",
       "      <th></th>\n",
       "      <th>scores0</th>\n",
       "      <th>scores1</th>\n",
       "      <th>scores2</th>\n",
       "    </tr>\n",
       "  </thead>\n",
       "  <tbody>\n",
       "    <tr>\n",
       "      <th>count</th>\n",
       "      <td>36021.000</td>\n",
       "      <td>39420.000</td>\n",
       "      <td>43113.000</td>\n",
       "    </tr>\n",
       "    <tr>\n",
       "      <th>mean</th>\n",
       "      <td>72.061</td>\n",
       "      <td>73.694</td>\n",
       "      <td>72.897</td>\n",
       "    </tr>\n",
       "    <tr>\n",
       "      <th>std</th>\n",
       "      <td>13.732</td>\n",
       "      <td>14.162</td>\n",
       "      <td>15.056</td>\n",
       "    </tr>\n",
       "    <tr>\n",
       "      <th>min</th>\n",
       "      <td>30.000</td>\n",
       "      <td>30.000</td>\n",
       "      <td>29.000</td>\n",
       "    </tr>\n",
       "    <tr>\n",
       "      <th>25%</th>\n",
       "      <td>70.000</td>\n",
       "      <td>70.000</td>\n",
       "      <td>70.000</td>\n",
       "    </tr>\n",
       "    <tr>\n",
       "      <th>50%</th>\n",
       "      <td>75.000</td>\n",
       "      <td>75.000</td>\n",
       "      <td>75.000</td>\n",
       "    </tr>\n",
       "    <tr>\n",
       "      <th>75%</th>\n",
       "      <td>80.000</td>\n",
       "      <td>85.000</td>\n",
       "      <td>85.000</td>\n",
       "    </tr>\n",
       "    <tr>\n",
       "      <th>max</th>\n",
       "      <td>90.000</td>\n",
       "      <td>91.000</td>\n",
       "      <td>91.000</td>\n",
       "    </tr>\n",
       "  </tbody>\n",
       "</table>\n",
       "</div>"
      ],
      "text/plain": [
       "         scores0    scores1    scores2\n",
       "count  36021.000  39420.000  43113.000\n",
       "mean      72.061     73.694     72.897\n",
       "std       13.732     14.162     15.056\n",
       "min       30.000     30.000     29.000\n",
       "25%       70.000     70.000     70.000\n",
       "50%       75.000     75.000     75.000\n",
       "75%       80.000     85.000     85.000\n",
       "max       90.000     91.000     91.000"
      ]
     },
     "execution_count": 193,
     "metadata": {},
     "output_type": "execute_result"
    }
   ],
   "source": [
    "\n",
    "scores_table = pd.DataFrame({'scores0': scores0_descr.values,\n",
    "                             'scores1': scores1_descr.values,\n",
    "                             'scores2': scores2_descr.values}, \n",
    "                             index=scores0_descr.index)\n",
    "scores_table"
   ]
  },
  {
   "cell_type": "code",
   "execution_count": 222,
   "metadata": {},
   "outputs": [
    {
     "data": {
      "image/png": "[encoded data removed]",
      "text/plain": [
       "<Figure size 1200x480 with 3 Axes>"
      ]
     },
     "metadata": {},
     "output_type": "display_data"
    }
   ],
   "source": [
    "f, (ax1, ax2, ax3) = plt.subplots(1, 3, sharey=True)\n",
    "f.suptitle('Распределение оценок по 3 вариантам данных')\n",
    "ax1.hist(x=scores0)\n",
    "ax1.set(xlim=(0, 100), xticks=np.arange(0, 100, 10))\n",
    "ax1.set_xlabel('scores0')\n",
    "ax2.hist(x=scores1)\n",
    "ax2.set(xlim=(0, 100), xticks=np.arange(0, 100, 10))\n",
    "ax2.set_xlabel('scores1')\n",
    "ax3.hist(x=scores2)\n",
    "ax3.set(xlim=(0, 100), xticks=np.arange(0, 100, 10))\n",
    "ax1.set_xlabel('scores2')\n",
    "f.set_figwidth(12)"
   ]
  },
  {
   "cell_type": "markdown",
   "metadata": {},
   "source": [
    "Все 3 варианта показывают схожее распределение, поэтому для анализа выберу 3 вариант с наибольшим объемом данных."
   ]
  },
  {
   "cell_type": "markdown",
   "metadata": {},
   "source": [
    "<h3>Мнения</h3>"
   ]
  },
  {
   "cell_type": "code",
   "execution_count": null,
   "metadata": {},
   "outputs": [
    {
     "data": {
      "text/plain": [
       "Yes    40891\n",
       "No      2223\n",
       "Name: Based on what you have played in Gothic Playable Teaser: Would you want us to continue the development and release it as a full game?, dtype: int64"
      ]
     },
     "execution_count": 339,
     "metadata": {},
     "output_type": "execute_result"
    }
   ],
   "source": [
    "df['Based on what you have played in Gothic Playable Teaser: Would you want us to continue the development and release it as a full game?'].value_counts()"
   ]
  },
  {
   "cell_type": "code",
   "execution_count": null,
   "metadata": {},
   "outputs": [
    {
     "data": {
      "text/plain": [
       "3779"
      ]
     },
     "execution_count": 340,
     "metadata": {},
     "output_type": "execute_result"
    }
   ],
   "source": [
    "len(df['What do you like to see as next Gothic game?'].unique())"
   ]
  },
  {
   "cell_type": "code",
   "execution_count": null,
   "metadata": {},
   "outputs": [
    {
     "data": {
      "text/plain": [
       "Gothic Remake(s)                                                                                                    26012\n",
       "Gothic Sequel                                                                                                        7573\n",
       "Gothic Prequel                                                                                                       4989\n",
       "All of the above                                                                                                       66\n",
       "all of the above                                                                                                       48\n",
       "                                                                                                                    ...  \n",
       "Gothic Remake (s) are fine but i hope if they come there will be a Prequel as well after that.                          1\n",
       "ALL =)))                                                                                                                1\n",
       "ALL OF THE ABOVE!                                                                                                       1\n",
       "Remake but with more connection to the original or just a completely different story, like an alternate universe        1\n",
       "G1 & G2 remaster (not remake), proper G4 (Arcania isn't Gothic!) or G1 unreleased DLC                                   1\n",
       "Name: What do you like to see as next Gothic game?, Length: 3778, dtype: int64"
      ]
     },
     "execution_count": 341,
     "metadata": {},
     "output_type": "execute_result"
    }
   ],
   "source": [
    "df['What do you like to see as next Gothic game?'].value_counts()"
   ]
  },
  {
   "cell_type": "code",
   "execution_count": null,
   "metadata": {},
   "outputs": [
    {
     "data": {
      "text/plain": [
       "Was ok but could be better    25344\n",
       "It was spot on!               12571\n",
       "Didnt like it at all           5199\n",
       "Name: How did you like the approach to re-interpret the plot?, dtype: int64"
      ]
     },
     "execution_count": 342,
     "metadata": {},
     "output_type": "execute_result"
    }
   ],
   "source": [
    "df['How did you like the approach to re-interpret the plot?'].value_counts()"
   ]
  }
 ],
 "metadata": {
  "kernelspec": {
   "display_name": "base",
   "language": "python",
   "name": "python3"
  },
  "language_info": {
   "codemirror_mode": {
    "name": "ipython",
    "version": 3
   },
   "file_extension": ".py",
   "mimetype": "text/x-python",
   "name": "python",
   "nbconvert_exporter": "python",
   "pygments_lexer": "ipython3",
   "version": "3.10.11"
  },
  "orig_nbformat": 4
 },
 "nbformat": 4,
 "nbformat_minor": 2
}
